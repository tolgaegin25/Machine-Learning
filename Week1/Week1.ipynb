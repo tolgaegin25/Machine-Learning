{
 "cells": [
  {
   "cell_type": "code",
   "execution_count": 7,
   "id": "427da5f6",
   "metadata": {},
   "outputs": [],
   "source": [
    "var1=10\n",
    "var2=15\n",
    "\n",
    "gun=\"pazartesi\"\n",
    "\n",
    "\n",
    "var3=10.0"
   ]
  },
  {
   "cell_type": "code",
   "execution_count": 23,
   "id": "66e53253",
   "metadata": {},
   "outputs": [
    {
     "name": "stdout",
     "output_type": "stream",
     "text": [
      "1\n",
      "6\n",
      "[1, 2, 3]\n",
      "Help on method_descriptor:\n",
      "\n",
      "append(self, object, /)\n",
      "    Append object to the end of the list.\n",
      "\n",
      "[1, 2, 3, 4, 5, 6, 7]\n",
      "[1, 2, 3, 4, 5, 6]\n",
      "[6, 5, 4, 3, 2, 1]\n",
      "[1, 2, 3, 4, 5, 6]\n"
     ]
    }
   ],
   "source": [
    "var1=10\n",
    "var2=20\n",
    "var3=30\n",
    "\n",
    "list_int=[1,2,3,4,5,6]\n",
    "type(list_int)\n",
    "\n",
    "list_str=[\"pazartesi,salıiçarşamba\"]\n",
    "type(list_str)\n",
    "\n",
    "value = list_int[0] \n",
    "print(value)\n",
    "\n",
    "value1 = list_int[-1] \n",
    "print(value1)\n",
    "\n",
    "list_divide= list_int[0:3]\n",
    "print(list_divide)\n",
    "\n",
    "dir(list_int)\n",
    "\n",
    "help(list.append)\n",
    "\n",
    "list_int.append(7)\n",
    "print(list_int)\n",
    "\n",
    "list_int.remove(7)\n",
    "print(list_int)\n",
    "\n",
    "list_int.reverse()\n",
    "print(list_int)\n",
    "\n",
    "list_yeni=[3,5,2,6,1,4]\n",
    "list_yeni.sort()\n",
    "print(list_yeni)\n",
    "\n",
    "string_int_list=[\"Tolga\",\"Egin\",25,8,2000] "
   ]
  },
  {
   "cell_type": "code",
   "execution_count": 29,
   "id": "87fd9e74",
   "metadata": {},
   "outputs": [
    {
     "name": "stdout",
     "output_type": "stream",
     "text": [
      "1\n",
      "2\n",
      "3\n",
      "4\n",
      "5\n",
      "6\n",
      "7\n",
      "8\n",
      "9\n",
      "10\n",
      "a\n",
      "n\n",
      "k\n",
      "a\n",
      "r\n",
      "a\n",
      " \n",
      "i\n",
      "s\n",
      "t\n",
      "a\n",
      "n\n",
      "b\n",
      "u\n",
      "l\n",
      "138\n",
      "-500\n",
      "-500\n"
     ]
    }
   ],
   "source": [
    "\n",
    "for number in range (1,11): #1 -> inclusive, 11 -> exclusive\n",
    "    \n",
    "    print(number)\n",
    "    \n",
    "for each in \"ankara istanbul\":\n",
    "    \n",
    "    print(each)\n",
    "liste= [1,4,6,8,3,5,9,2,43,57]\n",
    "print(sum(liste))\n",
    "\n",
    "liste1=[1,2,3,4,5,6,-500,23,451,67,21,23] \n",
    "print(min(liste1))\n",
    "\n",
    "minimum=100000\n",
    "\n",
    "\n",
    "for each in liste1:\n",
    "    \n",
    "    if(each<minimum):\n",
    "        \n",
    "        minimum=each\n",
    "        \n",
    "    else:\n",
    "        \n",
    "        continue \n",
    "        \n",
    "print(minimum) "
   ]
  },
  {
   "cell_type": "code",
   "execution_count": 33,
   "id": "25221c4e",
   "metadata": {},
   "outputs": [
    {
     "name": "stdout",
     "output_type": "stream",
     "text": [
      "var1 küçüktür var2'den\n",
      "value değeri 3 listenin içindedir.\n"
     ]
    }
   ],
   "source": [
    "1 == 1 \n",
    "\n",
    "1 == 2 \n",
    "\n",
    "1 != 1 \n",
    "\n",
    "True == True \n",
    "\n",
    "True == False \n",
    "\n",
    "1>0 and 4<5 \n",
    "\n",
    "1>0 or 4<3 \n",
    "\n",
    "var1=10\n",
    "var2=20\n",
    "\n",
    "if (var1 > var2):\n",
    "    \n",
    "    print(\"var 1 büyüktür var 2'den\")\n",
    "    \n",
    "elif (var1 == var2):\n",
    "    print(\"var1 eşittir var2\")\n",
    "    \n",
    "else :\n",
    "    \n",
    "    print(\"var1 küçüktür var2'den\")\n",
    "    \n",
    "\n",
    "liste =[1,2,3,4,5]\n",
    "\n",
    "value = 3\n",
    "\n",
    "if value in liste:\n",
    "    \n",
    "    print(\"value değeri {} listenin içindedir.\" .format(value))\n",
    "    \n",
    "else:\n",
    "    print(\"value değeri {} listenin içinde değildir.\".format(value))"
   ]
  }
 ],
 "metadata": {
  "kernelspec": {
   "display_name": "Python 3 (ipykernel)",
   "language": "python",
   "name": "python3"
  },
  "language_info": {
   "codemirror_mode": {
    "name": "ipython",
    "version": 3
   },
   "file_extension": ".py",
   "mimetype": "text/x-python",
   "name": "python",
   "nbconvert_exporter": "python",
   "pygments_lexer": "ipython3",
   "version": "3.9.13"
  }
 },
 "nbformat": 4,
 "nbformat_minor": 5
}
