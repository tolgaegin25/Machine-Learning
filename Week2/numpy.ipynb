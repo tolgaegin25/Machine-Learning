{
 "cells": [
  {
   "cell_type": "code",
   "execution_count": null,
   "id": "7ef60fd6",
   "metadata": {},
   "outputs": [],
   "source": [
    "import numpy as np "
   ]
  },
  {
   "cell_type": "code",
   "execution_count": null,
   "id": "da7e7a3a",
   "metadata": {},
   "outputs": [],
   "source": [
    "array = np.array([1,2,3]) \n",
    "print(array)"
   ]
  },
  {
   "cell_type": "code",
   "execution_count": null,
   "id": "429ea82a",
   "metadata": {},
   "outputs": [],
   "source": [
    "array2= np.array([1,2,3,4,5,6,7,8,9,10,11,12,13,14,15])\n",
    "\n",
    "print(array2.shape)"
   ]
  },
  {
   "cell_type": "code",
   "execution_count": null,
   "id": "fb7385eb",
   "metadata": {
    "scrolled": true
   },
   "outputs": [],
   "source": [
    "a = array2.reshape(3,5) \n",
    "print(a)"
   ]
  },
  {
   "cell_type": "code",
   "execution_count": null,
   "id": "6fb38831",
   "metadata": {},
   "outputs": [],
   "source": [
    "print(\"shape: \",a.shape) \n",
    "\n",
    "print(\"dimension: \",a.ndim) \n",
    "                            \n",
    "\n",
    "print(\"data type: \",a.dtype.name) \n",
    "\n",
    "\n",
    "print(\"size: \",a.size) \n",
    "                       \n",
    "                       \n",
    "print(\"type\",type(a)) "
   ]
  },
  {
   "cell_type": "code",
   "execution_count": null,
   "id": "74686d8b",
   "metadata": {},
   "outputs": [],
   "source": [
    "array3= np.array([[1,2,3,4],[5,6,7,8],[9,10,11,12]]) "
   ]
  },
  {
   "cell_type": "code",
   "execution_count": null,
   "id": "61d93f0c",
   "metadata": {},
   "outputs": [],
   "source": [
    "print(array3) "
   ]
  },
  {
   "cell_type": "code",
   "execution_count": null,
   "id": "f9cdcf44",
   "metadata": {},
   "outputs": [],
   "source": [
    "print(array3.shape) "
   ]
  },
  {
   "cell_type": "code",
   "execution_count": null,
   "id": "eba3ca15",
   "metadata": {},
   "outputs": [],
   "source": [
    "zeros= np.zeros((3,4)) "
   ]
  },
  {
   "cell_type": "code",
   "execution_count": null,
   "id": "4fadbd03",
   "metadata": {},
   "outputs": [],
   "source": [
    "zeros[0,0]=5\n",
    "print(zeros)"
   ]
  },
  {
   "cell_type": "code",
   "execution_count": null,
   "id": "4fce2668",
   "metadata": {},
   "outputs": [],
   "source": [
    "np.ones((3,4)) "
   ]
  },
  {
   "cell_type": "code",
   "execution_count": null,
   "id": "8d657390",
   "metadata": {},
   "outputs": [],
   "source": [
    "np.empty((4,5)) "
   ]
  },
  {
   "cell_type": "code",
   "execution_count": null,
   "id": "4cb8474a",
   "metadata": {},
   "outputs": [],
   "source": [
    "np.arange(10,50,5)"
   ]
  },
  {
   "cell_type": "code",
   "execution_count": null,
   "id": "7b29c1c4",
   "metadata": {},
   "outputs": [],
   "source": [
    "a= np.linspace(0,10,20) \n",
    "print(a)"
   ]
  },
  {
   "cell_type": "code",
   "execution_count": null,
   "id": "daa5de41",
   "metadata": {},
   "outputs": [],
   "source": [
    "a= np.array([1,2,3])\n",
    "b= np.array([4,5,6]) \n",
    "\n",
    "print(a+b) \n",
    "print(a-b) \n",
    "print(a**2) "
   ]
  },
  {
   "cell_type": "code",
   "execution_count": null,
   "id": "ac5cb7ae",
   "metadata": {},
   "outputs": [],
   "source": [
    "a= np.array([1,2,3,4,5,6,7]) "
   ]
  },
  {
   "cell_type": "code",
   "execution_count": null,
   "id": "81298b9a",
   "metadata": {},
   "outputs": [],
   "source": [
    "liste = [1,2,3,4]\n",
    "\n",
    "array = np.array([5,6,7,8])\n",
    "print(liste)\n",
    "print(array)"
   ]
  },
  {
   "cell_type": "code",
   "execution_count": null,
   "id": "9f3760ac",
   "metadata": {},
   "outputs": [],
   "source": [
    "array = np.array(liste)\n",
    "print(array)"
   ]
  },
  {
   "cell_type": "code",
   "execution_count": null,
   "id": "628d240c",
   "metadata": {},
   "outputs": [],
   "source": [
    "liste2 = list(array) \n",
    "print(liste2)"
   ]
  },
  {
   "cell_type": "code",
   "execution_count": null,
   "id": "4ba9224e",
   "metadata": {},
   "outputs": [],
   "source": [
    "a = np.array([1,2,3])\n",
    "print(a)"
   ]
  },
  {
   "cell_type": "code",
   "execution_count": null,
   "id": "131551f1",
   "metadata": {},
   "outputs": [],
   "source": [
    "b=a\n",
    "c=a\n",
    "b[0]=5 \n",
    "print(a,b,c)"
   ]
  },
  {
   "cell_type": "code",
   "execution_count": null,
   "id": "5a764d65",
   "metadata": {},
   "outputs": [],
   "source": [
    "d = a.copy()"
   ]
  },
  {
   "cell_type": "code",
   "execution_count": null,
   "id": "ee1dc9a2",
   "metadata": {},
   "outputs": [],
   "source": [
    "a= np.array([1,2,3,4,5,6,7]) \n",
    "print(a)"
   ]
  },
  {
   "cell_type": "code",
   "execution_count": null,
   "id": "d55bf793",
   "metadata": {},
   "outputs": [],
   "source": [
    "print(a[0]) "
   ]
  },
  {
   "cell_type": "code",
   "execution_count": null,
   "id": "26b8d670",
   "metadata": {},
   "outputs": [],
   "source": [
    "print(a[0:4]) "
   ]
  },
  {
   "cell_type": "code",
   "execution_count": null,
   "id": "b3d05df4",
   "metadata": {},
   "outputs": [],
   "source": [
    "reverse_array = a[::-1] \n",
    "print(reverse_array)"
   ]
  },
  {
   "cell_type": "code",
   "execution_count": null,
   "id": "788d2140",
   "metadata": {},
   "outputs": [],
   "source": [
    "b = np.array([[1,2,3,4,5],[6,7,8,9,10]]) \n",
    "print(b)"
   ]
  },
  {
   "cell_type": "code",
   "execution_count": null,
   "id": "75d62246",
   "metadata": {},
   "outputs": [],
   "source": [
    "print(b[1,1]) \n",
    "\n",
    "print(b[:,1]) \n",
    "\n",
    "print(b[1,:])\n",
    "\n",
    "print(b[1,1:4]) \n",
    "\n",
    "print(b[-1,:]) \n",
    "\n",
    "print(b[:,-1]) "
   ]
  },
  {
   "cell_type": "code",
   "execution_count": null,
   "id": "339ffdd3",
   "metadata": {},
   "outputs": [],
   "source": [
    "array = np.array([[1,2,3],[4,5,6],[7,8,9]])\n",
    "print(array)"
   ]
  },
  {
   "cell_type": "code",
   "execution_count": null,
   "id": "b7065191",
   "metadata": {},
   "outputs": [],
   "source": [
    "a = array.ravel() \n",
    "print(a)"
   ]
  },
  {
   "cell_type": "code",
   "execution_count": null,
   "id": "324055eb",
   "metadata": {},
   "outputs": [],
   "source": [
    "array2 = a.reshape(3,3) \n",
    "print(array2)"
   ]
  },
  {
   "cell_type": "code",
   "execution_count": null,
   "id": "83ed3932",
   "metadata": {},
   "outputs": [],
   "source": [
    "array_transpose = array2.T \n",
    "print(array_transpose)"
   ]
  },
  {
   "cell_type": "code",
   "execution_count": null,
   "id": "e5592d5b",
   "metadata": {},
   "outputs": [],
   "source": [
    "array3 = np.array([[1,2],[3,4],[5,6]])\n",
    "print(array3)"
   ]
  },
  {
   "cell_type": "code",
   "execution_count": null,
   "id": "2be4d202",
   "metadata": {},
   "outputs": [],
   "source": [
    "array3.resize((2,3)) \n",
    "print(array3)"
   ]
  }
 ],
 "metadata": {
  "kernelspec": {
   "display_name": "Python 3 (ipykernel)",
   "language": "python",
   "name": "python3"
  },
  "language_info": {
   "codemirror_mode": {
    "name": "ipython",
    "version": 3
   },
   "file_extension": ".py",
   "mimetype": "text/x-python",
   "name": "python",
   "nbconvert_exporter": "python",
   "pygments_lexer": "ipython3",
   "version": "3.9.13"
  }
 },
 "nbformat": 4,
 "nbformat_minor": 5
}
