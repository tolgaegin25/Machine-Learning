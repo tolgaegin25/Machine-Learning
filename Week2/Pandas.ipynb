{
 "cells": [
  {
   "cell_type": "code",
   "execution_count": null,
   "id": "0803338b",
   "metadata": {},
   "outputs": [],
   "source": [
    "t = (1,2,3,4)\n",
    "\n",
    "t[1:3]"
   ]
  },
  {
   "cell_type": "code",
   "execution_count": null,
   "id": "2cde41d1",
   "metadata": {
    "scrolled": true
   },
   "outputs": [],
   "source": [
    "import pandas as pd\n",
    "dictionary = {\"name\":[\"ali\",\"zeynep\",\"tolga\",\"hasan\",\"ömer\",\"yağmur\"],\n",
    "             \"age\":[12,34,56,78,None,12],\n",
    "             \"note\":[123,456,78,87654,None,89]}\n",
    "dataframe1 = pd.DataFrame(dictionary) \n",
    "print(dataframe1)"
   ]
  },
  {
   "cell_type": "code",
   "execution_count": null,
   "id": "425b965e",
   "metadata": {},
   "outputs": [],
   "source": [
    "import pandas as pd\n",
    "\n",
    "# Read the CSV file into a DataFrame\n",
    "df = pd.read_csv(\"C:\\Users\\Tolga\\OneDrive\\Masaüstü\\data.csv\")\n",
    "\n",
    "# Print the contents of the DataFrame\n",
    "print(df)"
   ]
  },
  {
   "cell_type": "code",
   "execution_count": null,
   "id": "a1c4cb0d",
   "metadata": {},
   "outputs": [],
   "source": [
    "head = dataframe1.head() \n",
    "print(head)"
   ]
  },
  {
   "cell_type": "code",
   "execution_count": null,
   "id": "0c6f9974",
   "metadata": {},
   "outputs": [],
   "source": [
    "tail = dataframe1.tail()\n",
    "print(tail)"
   ]
  },
  {
   "cell_type": "code",
   "execution_count": null,
   "id": "dac71f35",
   "metadata": {},
   "outputs": [],
   "source": [
    "print(dataframe1.columns) "
   ]
  },
  {
   "cell_type": "code",
   "execution_count": null,
   "id": "a2131a1b",
   "metadata": {},
   "outputs": [],
   "source": [
    "print(dataframe1.info()) "
   ]
  },
  {
   "cell_type": "code",
   "execution_count": null,
   "id": "eadc9568",
   "metadata": {},
   "outputs": [],
   "source": [
    "print(dataframe1.dtypes) "
   ]
  },
  {
   "cell_type": "code",
   "execution_count": null,
   "id": "9c33e6d8",
   "metadata": {},
   "outputs": [],
   "source": [
    "print(dataframe1.describe()) "
   ]
  },
  {
   "cell_type": "code",
   "execution_count": null,
   "id": "300be929",
   "metadata": {},
   "outputs": [],
   "source": [
    "print(dataframe1[\"name\"]) \n",
    "print(dataframe1.loc[:, \"age\"])                      \n",
    "dataframe1[\"yeni_future\"] = [1,2,3,4,5,6]\n",
    "print(dataframe1.loc[:3,\"age\"]) \n",
    "print(dataframe1.loc[:3, \"name\":\"note\"])                \n",
    "print(dataframe1.loc[::-1])                          \n"
   ]
  },
  {
   "cell_type": "code",
   "execution_count": null,
   "id": "1167162b",
   "metadata": {},
   "outputs": [],
   "source": [
    " print(dataframe1.yeni_future) "
   ]
  },
  {
   "cell_type": "code",
   "execution_count": null,
   "id": "73b46122",
   "metadata": {},
   "outputs": [],
   "source": [
    "print(dataframe1.loc[:, \"age\"]) # sutun getirmenin bir başka yolu"
   ]
  },
  {
   "cell_type": "code",
   "execution_count": null,
   "id": "21068373",
   "metadata": {},
   "outputs": [],
   "source": [
    "print(dataframe1.loc[:3,\"age\"]) "
   ]
  },
  {
   "cell_type": "code",
   "execution_count": null,
   "id": "cc8f079a",
   "metadata": {},
   "outputs": [],
   "source": [
    "print(dataframe1.loc[:3, \"name\":\"note\"]) #name den note'a kadar olan kolonların ilk 3 satırını yazdırdı 3 dahil"
   ]
  },
  {
   "cell_type": "code",
   "execution_count": null,
   "id": "dcf705fc",
   "metadata": {},
   "outputs": [],
   "source": [
    "print(dataframe1.loc[:3, [\"name\",\"note\"]]) #sadece name ve notun 3. indeksine kadar yazdırır"
   ]
  },
  {
   "cell_type": "code",
   "execution_count": null,
   "id": "c6db0fd7",
   "metadata": {},
   "outputs": [],
   "source": [
    "print(dataframe1.loc[::-1]) #indexleri tersten yazdırdı"
   ]
  },
  {
   "cell_type": "code",
   "execution_count": null,
   "id": "9e550a4e",
   "metadata": {},
   "outputs": [],
   "source": [
    "print(dataframe1.loc[:,:\"age\"]) #age kadar olan tüm satırları yazdırdı. age dahil"
   ]
  },
  {
   "cell_type": "code",
   "execution_count": null,
   "id": "7e3b5e44",
   "metadata": {},
   "outputs": [],
   "source": [
    "print(dataframe1.iloc[:,[2]]) #2. indeksdeki kolonun tüm satırlarını verir"
   ]
  },
  {
   "cell_type": "code",
   "execution_count": null,
   "id": "cf2c862a",
   "metadata": {
    "scrolled": false
   },
   "outputs": [],
   "source": [
    "filtre1 = dataframe1.age>10                           \n",
    "dataframe1[\"bool\"]= filtre1\n",
    "print(dataframe1.loc[:,[\"age\",\"bool\"]])"
   ]
  },
  {
   "cell_type": "code",
   "execution_count": null,
   "id": "e32607d8",
   "metadata": {},
   "outputs": [],
   "source": [
    "type(filtre1)"
   ]
  },
  {
   "cell_type": "code",
   "execution_count": null,
   "id": "656f8e8e",
   "metadata": {},
   "outputs": [],
   "source": [
    "filtrelenmis_data= dataframe1[filtre1] #dataframe'i filtrelemiş olduk, sadece koşulu sağlayan indeksler yazıldı\n",
    "print(filtrelenmis_data)\n"
   ]
  },
  {
   "cell_type": "code",
   "execution_count": null,
   "id": "a5f9e0d3",
   "metadata": {},
   "outputs": [],
   "source": [
    "filtre2 = dataframe1.note>100\n",
    "filtrelenmis_data2 = dataframe1[filtre2&filtre1] #iki filtre birden uyguladık\n",
    "print(filtrelenmis_data2)\n"
   ]
  },
  {
   "cell_type": "code",
   "execution_count": null,
   "id": "4da59fde",
   "metadata": {},
   "outputs": [],
   "source": [
    "dataframe1[dataframe1.age>20] "
   ]
  },
  {
   "cell_type": "code",
   "execution_count": null,
   "id": "8ecda32e",
   "metadata": {},
   "outputs": [],
   "source": [
    "import numpy as np\n",
    "ortalama = dataframe1.note.mean() #pandas ile ortalama bulma \n",
    "print(ortalama)\n",
    "ortlama_np= np.mean(dataframe1.note) #numpy ile ortalama bulma\n",
    "print(ortlama_np)"
   ]
  },
  {
   "cell_type": "code",
   "execution_count": null,
   "id": "b4a585d8",
   "metadata": {},
   "outputs": [],
   "source": [
    "dataframe1.dropna(inplace=True) #dropna ile NaN değerleri sildik \n",
    "dataframe1\n"
   ]
  },
  {
   "cell_type": "code",
   "execution_count": null,
   "id": "d3709fe0",
   "metadata": {
    "scrolled": true
   },
   "outputs": [],
   "source": [
    "print(dataframe1.note.mean()) \n",
    "dataframe1[\"ortalama\"]= [\"ortalamanın altında\" if dataframe1.note.mean()>each else \"ortalamanın üstünde\" for each in dataframe1.note]\n",
    "dataframe1\n"
   ]
  },
  {
   "cell_type": "code",
   "execution_count": null,
   "id": "c79a6a3f",
   "metadata": {},
   "outputs": [],
   "source": [
    "dataframe1.columns = [each.upper() for each in dataframe1.columns]\n",
    "dataframe1.columns"
   ]
  },
  {
   "cell_type": "code",
   "execution_count": null,
   "id": "35c27620",
   "metadata": {},
   "outputs": [],
   "source": [
    "dataframe1[\"yeni2_future\"]=[1,1,1,1,1]\n",
    "dataframe1.columns = [each.split('_')[0]+\" \"+each.split('_')[1] if len(each.split('_'))>1 else each for each in dataframe1.columns]\n",
    "dataframe1"
   ]
  },
  {
   "cell_type": "code",
   "execution_count": null,
   "id": "0d721bd9",
   "metadata": {},
   "outputs": [],
   "source": [
    "dataframe1.columns = [ each.split(\" \")[0]+\"_\"+each.split(\" \")[1] if len(each.split(\" \"))>1 else each for each in dataframe1.columns]\n",
    "dataframe1"
   ]
  },
  {
   "cell_type": "code",
   "execution_count": null,
   "id": "d5425542",
   "metadata": {},
   "outputs": [],
   "source": [
    "dataframe1.drop([\"yeni2_future\",\"YENI_FUTURE\"],axis=1,inplace=True)\n",
    "dataframe1"
   ]
  },
  {
   "cell_type": "code",
   "execution_count": null,
   "id": "8310a8b2",
   "metadata": {},
   "outputs": [],
   "source": [
    "data1 = dataframe1.head()     \n",
    "data2 = dataframe1.tail()\n",
    "data_concat = pd.concat([data1,data2],axis=0)\n",
    "data_concat"
   ]
  },
  {
   "cell_type": "code",
   "execution_count": null,
   "id": "983e5d40",
   "metadata": {},
   "outputs": [],
   "source": [
    "data_contact2 = pd.concat([data1,data2],axis=1) #axis= 1 yazarak stunları birleştirdik\n",
    "data_contact2"
   ]
  },
  {
   "cell_type": "code",
   "execution_count": null,
   "id": "46ed3756",
   "metadata": {},
   "outputs": [],
   "source": [
    "dataframe1[\"buyuk_yas\"] = [each*2 for each in dataframe1.AGE]\n",
    "dataframe1"
   ]
  },
  {
   "cell_type": "code",
   "execution_count": null,
   "id": "aac709d8",
   "metadata": {},
   "outputs": [],
   "source": [
    "def mlt(yas):\n",
    "    return yas*2\n",
    "dataframe1[\"apply_metodu\"] = dataframe1.AGE.apply(mlt)\n",
    "dataframe1\n"
   ]
  }
 ],
 "metadata": {
  "kernelspec": {
   "display_name": "Python 3 (ipykernel)",
   "language": "python",
   "name": "python3"
  },
  "language_info": {
   "codemirror_mode": {
    "name": "ipython",
    "version": 3
   },
   "file_extension": ".py",
   "mimetype": "text/x-python",
   "name": "python",
   "nbconvert_exporter": "python",
   "pygments_lexer": "ipython3",
   "version": "3.9.13"
  }
 },
 "nbformat": 4,
 "nbformat_minor": 5
}
