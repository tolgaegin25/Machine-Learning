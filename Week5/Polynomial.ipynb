{
 "cells": [
  {
   "cell_type": "code",
   "execution_count": null,
   "metadata": {
    "colab": {
     "base_uri": "https://localhost:8080/",
     "height": 416
    },
    "id": "wDovsGgHd_Vv",
    "outputId": "dd522c3c-c394-4e4f-8a9f-908a22724804"
   },
   "outputs": [],
   "source": [
    "import numpy as np\n",
    "import matplotlib.pyplot as plt\n",
    "from sklearn.linear_model import LinearRegression\n",
    "from sklearn.preprocessing import PolynomialFeatures\n",
    "\n",
    "\n",
    "x1 = np.array([0, 1, 2, 3, 4, 5, 6])\n",
    "x2 = np.array([1, 2, 3, 4, 5, 6, 7])\n",
    "y = np.array([2, 12, 40, 90, 172, 292, 454])\n",
    "\n",
    "\n",
    "poly = PolynomialFeatures(degree=3)\n",
    "x_poly = poly.fit_transform(np.column_stack((x1, x2)))\n",
    "\n",
    "\n",
    "model = LinearRegression()\n",
    "model.fit(x_poly, y)\n",
    "\n",
    "\n",
    "fig = plt.figure()\n",
    "ax = fig.add_subplot(projection='3d')\n",
    "\n",
    "x1_pred, x2_pred = np.meshgrid(np.arange(0, 7, 0.1), np.arange(1, 8, 0.1))\n",
    "y_pred = model.predict(poly.fit_transform(np.column_stack((x1_pred.ravel(), x2_pred.ravel()))))\n",
    "y_pred = y_pred.reshape(x1_pred.shape)\n",
    "\n",
    "ax.scatter(x1, x2, y, c='blue')\n",
    "ax.plot_surface(x1_pred, x2_pred, y_pred, cmap='viridis', alpha=0.5)\n",
    "ax.set_xlabel('X1')\n",
    "ax.set_ylabel('X2')\n",
    "ax.set_zlabel('Y')\n",
    "\n",
    "plt.show()\n"
   ]
  },
  {
   "cell_type": "code",
   "execution_count": null,
   "metadata": {
    "colab": {
     "base_uri": "https://localhost:8080/",
     "height": 430
    },
    "id": "hIviljureIMx",
    "outputId": "6340ffc1-8376-4cae-f6c6-59d41306643d"
   },
   "outputs": [],
   "source": [
    "import numpy as np\n",
    "import matplotlib.pyplot as plt\n",
    "from sklearn.linear_model import LinearRegression\n",
    "from sklearn.preprocessing import PolynomialFeatures\n",
    "\n",
    "\n",
    "x = np.array([0, 1, 2, 3, 4, 5, 6])\n",
    "y = np.array([1, 6, 17, 34, 57, 86, 121])\n",
    "\n",
    "\n",
    "poly = PolynomialFeatures(degree=2)\n",
    "x_poly = poly.fit_transform(x.reshape(-1, 1))\n",
    "\n",
    "model = LinearRegression()\n",
    "model.fit(x_poly, y)\n",
    "\n",
    "plt.scatter(x, y)\n",
    "plt.plot(x, model.predict(x_poly), color='red')\n",
    "plt.show()\n"
   ]
  },
  {
   "cell_type": "code",
   "execution_count": null,
   "metadata": {
    "colab": {
     "base_uri": "https://localhost:8080/",
     "height": 450
    },
    "id": "Xm6LT2dZeN5B",
    "outputId": "ecf3414a-3ca1-487e-9c5b-dd1f645c5e2a"
   },
   "outputs": [],
   "source": [
    "import pandas as pd\n",
    "import numpy as np\n",
    "import matplotlib.pyplot as plt\n",
    "from sklearn.model_selection import train_test_split\n",
    "from sklearn.linear_model import LinearRegression\n",
    "from sklearn.preprocessing import PolynomialFeatures\n",
    "from sklearn.metrics import r2_score\n",
    "\n",
    "df = pd.read_csv(\"/content/column_2C_weka.csv\")\n",
    "\n",
    "df.tail()\n",
    "df.head()\n",
    "\n",
    "abnormaldata1 = df[df['class'] =='Abnormal']\n",
    "x = np.array(abnormaldata1.loc[:,\"pelvic_incidence\"]).reshape(-1,1)\n",
    "y = np.array(abnormaldata1.loc[:,\"sacral_slope\"]).reshape(-1,1)\n",
    "\n",
    "plt.scatter(x,y)\n",
    "plt.xlabel(\"pelvic_incidence\")\n",
    "plt.ylabel('sacral_slope')\n",
    "plt.show()\n",
    "\n"
   ]
  },
  {
   "cell_type": "code",
   "execution_count": null,
   "metadata": {
    "colab": {
     "base_uri": "https://localhost:8080/",
     "height": 886
    },
    "id": "85sfJ50ue00x",
    "outputId": "94c3d632-6366-4465-e49f-ab61f96b163b"
   },
   "outputs": [],
   "source": [
    "x_train, x_test, y_train, y_test = train_test_split(x, y, test_size=0.2, random_state=2)\n",
    "\n",
    "lr = LinearRegression()\n",
    "lr.fit(x_train, y_train)\n",
    "y_pred = lr.predict(x_test)\n",
    "print(r2_score(y_test, y_pred))\n",
    "\n",
    "poly = PolynomialFeatures(degree=4, include_bias=True)\n",
    "x_train_trans = poly.fit_transform(x_train)\n",
    "x_test_trans = poly.transform(x_test)\n",
    "lr = LinearRegression()\n",
    "lr.fit(x_train_trans, y_train)\n",
    "y_pred = lr.predict(x_test_trans)\n",
    "print(r2_score(y_test, y_pred))\n",
    "\n",
    "\n",
    "X_new = np.linspace(0, 132, 200).reshape(200, 1)\n",
    "\n",
    "X_new_poly = poly.transform(X_new)\n",
    "y_new = lr.predict(X_new_poly)\n",
    "plt.figure(figsize=[10,10])\n",
    "plt.plot(X_new, y_new, \"r-\", linewidth=2, label=\"Predictions\")\n",
    "plt.plot(x_train, y_train, \"b.\",label='Training points')\n",
    "plt.plot(x_test, y_test, \"g.\",label='Testing points')\n",
    "plt.xlabel(\"pelvic_incidence\")\n",
    "plt.ylabel('sacral_slope')\n",
    "plt.legend()\n",
    "plt.show()\n"
   ]
  }
 ],
 "metadata": {
  "colab": {
   "provenance": []
  },
  "kernelspec": {
   "display_name": "Python 3 (ipykernel)",
   "language": "python",
   "name": "python3"
  },
  "language_info": {
   "codemirror_mode": {
    "name": "ipython",
    "version": 3
   },
   "file_extension": ".py",
   "mimetype": "text/x-python",
   "name": "python",
   "nbconvert_exporter": "python",
   "pygments_lexer": "ipython3",
   "version": "3.9.13"
  }
 },
 "nbformat": 4,
 "nbformat_minor": 1
}
